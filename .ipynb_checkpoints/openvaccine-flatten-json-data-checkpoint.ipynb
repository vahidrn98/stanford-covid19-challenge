{
 "cells": [
  {
   "cell_type": "markdown",
   "metadata": {},
   "source": [
    "# OpenVaccine: COVID-19 mRNA Vaccine Degradation Prediction Getting Started Notebook"
   ]
  },
  {
   "cell_type": "markdown",
   "metadata": {},
   "source": [
    "A starter notebook for those planning to build your submission from scratch. Will update with EDA as and when time permits."
   ]
  },
  {
   "cell_type": "code",
   "execution_count": null,
   "metadata": {
    "_cell_guid": "b1076dfc-b9ad-4769-8c92-a6c4dae69d19",
    "_uuid": "8f2839f25d086af736a60e9eeb907d3b93b6e0e5"
   },
   "outputs": [],
   "source": [
    "# This Python 3 environment comes with many helpful analytics libraries installed\n",
    "# It is defined by the kaggle/python Docker image: https://github.com/kaggle/docker-python\n",
    "# For example, here's several helpful packages to load\n",
    "\n",
    "import numpy as np # linear algebra\n",
    "import pandas as pd # data processing, CSV file I/O (e.g. pd.read_csv)\n",
    "\n",
    "import json\n",
    "from pandas.io.json import json_normalize\n",
    "\n",
    "# Input data files are available in the read-only \"../input/\" directory\n",
    "# For example, running this (by clicking run or pressing Shift+Enter) will list all files under the input directory\n",
    "\n",
    "import os\n",
    "#for dirname, _, filenames in os.walk('/kaggle/input'):\n",
    "#    for filename in filenames:\n",
    "#        print(os.path.join(dirname, filename))\n",
    "\n",
    "# You can write up to 5GB to the current directory (/kaggle/working/) that gets preserved as output when you create a version using \"Save & Run All\" \n",
    "# You can also write temporary files to /kaggle/temp/, but they won't be saved outside of the current session"
   ]
  },
  {
   "cell_type": "markdown",
   "metadata": {},
   "source": [
    "## Read train and test json"
   ]
  },
  {
   "cell_type": "code",
   "execution_count": null,
   "metadata": {},
   "outputs": [],
   "source": [
    "train = pd.read_json('../input/stanford-covid-vaccine/train.json', lines=True)\n",
    "train.T"
   ]
  },
  {
   "cell_type": "markdown",
   "metadata": {},
   "source": [
    "Not so intuitive, right. Lets see if we can flatten it."
   ]
  },
  {
   "cell_type": "markdown",
   "metadata": {},
   "source": [
    "One thing to note is that for each parameter(5 nos) that is to be output by the model, two lists each of size seq_scored is provided for the parameter and the error in that parameter."
   ]
  },
  {
   "cell_type": "code",
   "execution_count": null,
   "metadata": {},
   "outputs": [],
   "source": [
    "train_json = [json.loads(line) for line in open('../input/stanford-covid-vaccine/train.json', 'r')]"
   ]
  },
  {
   "cell_type": "code",
   "execution_count": null,
   "metadata": {},
   "outputs": [],
   "source": [
    "for json in train_json:\n",
    "    json['step'] = list(range(json['seq_scored']))\n",
    "    json['sequence'] = list(json['sequence'])\n",
    "    json['structure'] = list(json['structure'])\n",
    "    json['predicted_loop_type'] = list(json['predicted_loop_type'])\n",
    "    json['unpaired_probability'] = list(1-sum(np.load('../input/stanford-covid-vaccine/bpps/'+json['id']+'.npy')))"
   ]
  },
  {
   "cell_type": "code",
   "execution_count": null,
   "metadata": {},
   "outputs": [],
   "source": [
    "train = pd.json_normalize(data = train_json, \n",
    "                            record_path ='reactivity',  \n",
    "                            meta =['id','signal_to_noise',\n",
    "                                  'SN_filter','seq_length','seq_scored']) \n",
    "train.rename(columns={0:'reactivity'}, inplace=True)\n",
    "train['step'] = pd.json_normalize(data = train_json, \n",
    "                            record_path ='step'\n",
    "                                        )\n",
    "train['unpaired_probability'] = pd.json_normalize(data = train_json, \n",
    "                            record_path ='unpaired_probability'\n",
    "                                        )\n",
    "train['sequence'] = pd.json_normalize(data = train_json, \n",
    "                            record_path ='sequence'\n",
    "                                        )\n",
    "train['structure'] = pd.json_normalize(data = train_json, \n",
    "                            record_path ='structure'\n",
    "                                        )\n",
    "train['predicted_loop_type'] = pd.json_normalize(data = train_json, \n",
    "                            record_path ='predicted_loop_type'\n",
    "                                        )\n",
    "train['reactivity_error'] = pd.json_normalize(data = train_json, \n",
    "                            record_path ='reactivity_error'\n",
    "                                        )\n",
    "train['deg_Mg_pH10'] = pd.json_normalize(data = train_json, \n",
    "                            record_path ='deg_Mg_pH10'\n",
    "                                        )\n",
    "train['deg_error_Mg_pH10'] = pd.json_normalize(data = train_json, \n",
    "                            record_path ='deg_error_Mg_pH10'\n",
    "                                        )\n",
    "train['deg_pH10'] = pd.json_normalize(data = train_json, \n",
    "                            record_path ='deg_pH10',\n",
    "                                        )\n",
    "train['deg_error_pH10'] = pd.json_normalize(data = train_json, \n",
    "                            record_path ='deg_error_pH10',\n",
    "                                        )\n",
    "train['deg_Mg_50C'] = pd.json_normalize(data = train_json, \n",
    "                            record_path ='deg_Mg_50C',\n",
    "                                        )\n",
    "train['deg_error_Mg_50C'] = pd.json_normalize(data = train_json, \n",
    "                            record_path ='deg_error_Mg_50C',\n",
    "                                        )\n",
    "train['deg_50C'] = pd.json_normalize(data = train_json, \n",
    "                            record_path ='deg_50C',\n",
    "                                        )\n",
    "train['deg_error_50C'] = pd.json_normalize(data = train_json, \n",
    "                            record_path ='deg_error_50C',\n",
    "                                        )\n",
    "\n",
    "train.set_index(['id','step'], inplace=True)\n",
    "train.T"
   ]
  },
  {
   "cell_type": "code",
   "execution_count": null,
   "metadata": {},
   "outputs": [],
   "source": [
    "train.describe()"
   ]
  },
  {
   "cell_type": "markdown",
   "metadata": {},
   "source": [
    "Repeat the same with test set"
   ]
  },
  {
   "cell_type": "code",
   "execution_count": null,
   "metadata": {},
   "outputs": [],
   "source": [
    "test = pd.read_json('../input/stanford-covid-vaccine/test.json', lines=True)\n",
    "test.T"
   ]
  },
  {
   "cell_type": "code",
   "execution_count": null,
   "metadata": {},
   "outputs": [],
   "source": [
    "test.describe()"
   ]
  },
  {
   "cell_type": "markdown",
   "metadata": {},
   "source": [
    "### Make dummy submission File"
   ]
  },
  {
   "cell_type": "markdown",
   "metadata": {},
   "source": [
    "This will be overwritten if everything works fine."
   ]
  },
  {
   "cell_type": "code",
   "execution_count": null,
   "metadata": {
    "_cell_guid": "79c7e3d0-c299-4dcb-8224-4455121ee9b0",
    "_uuid": "d629ff2d2480ee46fbb7e2d37f6b5fab8052498a"
   },
   "outputs": [],
   "source": [
    "submission = pd.read_csv('../input/stanford-covid-vaccine/sample_submission.csv', index_col= 0)\n",
    "submission.to_csv('submission.csv')\n",
    "submission.T"
   ]
  },
  {
   "cell_type": "markdown",
   "metadata": {},
   "source": [
    "You have to make 107 to 130 predictions per input for the 5 parameters (only 3 of these are used for scoring)."
   ]
  },
  {
   "cell_type": "markdown",
   "metadata": {},
   "source": [
    "## Develop Your model"
   ]
  },
  {
   "cell_type": "markdown",
   "metadata": {},
   "source": [
    "Seems you will need something like an LSTM that works on sequence data."
   ]
  },
  {
   "cell_type": "code",
   "execution_count": null,
   "metadata": {},
   "outputs": [],
   "source": [
    "# Dummy"
   ]
  },
  {
   "cell_type": "markdown",
   "metadata": {},
   "source": [
    "## Train your model"
   ]
  },
  {
   "cell_type": "code",
   "execution_count": null,
   "metadata": {},
   "outputs": [],
   "source": [
    "# Dummy"
   ]
  },
  {
   "cell_type": "markdown",
   "metadata": {},
   "source": [
    "## Perform your prediction"
   ]
  },
  {
   "cell_type": "code",
   "execution_count": null,
   "metadata": {},
   "outputs": [],
   "source": [
    "# Dummy"
   ]
  },
  {
   "cell_type": "markdown",
   "metadata": {},
   "source": [
    "## Filling dummy values"
   ]
  },
  {
   "cell_type": "markdown",
   "metadata": {},
   "source": [
    "Lets use values mean and std from train data as a dummy submission"
   ]
  },
  {
   "cell_type": "code",
   "execution_count": null,
   "metadata": {},
   "outputs": [],
   "source": [
    "train.describe()"
   ]
  },
  {
   "cell_type": "code",
   "execution_count": null,
   "metadata": {},
   "outputs": [],
   "source": [
    "n = submission.shape[0]\n",
    "reactivity_bar = 0.374922; reactivity_sd = 0.725652\n",
    "deg_Mg_pH10_bar = 0.446303; deg_Mg_pH10_sd = 0.704172\n",
    "deg_pH10_bar = 0.446911; deg_pH10_sd = 1.285747\n",
    "deg_Mg_50C_bar = 0.407030; deg_Mg_50C_sd = 0.868013\n",
    "deg_50C_bar = 0.425889; deg_50C_sd = 1.122356\n",
    "submission['reactivity']=np.random.normal(reactivity_bar, reactivity_sd, size=n)\n",
    "submission['deg_Mg_pH10']=np.random.normal(deg_Mg_pH10_bar, deg_Mg_pH10_sd, size=n)\n",
    "submission['deg_pH10']=np.random.normal(deg_pH10_bar, deg_pH10_sd, size=n)\n",
    "submission['deg_Mg_50C']=np.random.normal(deg_Mg_50C_bar, deg_Mg_50C_sd, size=n)\n",
    "submission['deg_50C']=np.random.normal(deg_50C_bar, deg_50C_sd, size=n)\n",
    "submission"
   ]
  },
  {
   "cell_type": "markdown",
   "metadata": {},
   "source": [
    "## Submit"
   ]
  },
  {
   "cell_type": "code",
   "execution_count": null,
   "metadata": {},
   "outputs": [],
   "source": [
    "submission.to_csv('submission.csv')"
   ]
  },
  {
   "cell_type": "markdown",
   "metadata": {},
   "source": [
    "# EOF"
   ]
  }
 ],
 "metadata": {
  "kernelspec": {
   "display_name": "Python 3",
   "language": "python",
   "name": "python3"
  },
  "language_info": {
   "codemirror_mode": {
    "name": "ipython",
    "version": 3
   },
   "file_extension": ".py",
   "mimetype": "text/x-python",
   "name": "python",
   "nbconvert_exporter": "python",
   "pygments_lexer": "ipython3",
   "version": "3.7.3"
  }
 },
 "nbformat": 4,
 "nbformat_minor": 4
}
