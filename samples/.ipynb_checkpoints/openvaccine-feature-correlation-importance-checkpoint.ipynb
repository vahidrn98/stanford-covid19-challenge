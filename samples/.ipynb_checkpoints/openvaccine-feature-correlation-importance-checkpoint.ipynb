{
 "cells": [
  {
   "cell_type": "markdown",
   "metadata": {},
   "source": [
    "# OpenVaccine: COVID-19 mRNA Vaccine Degradation Prediction Getting Started Notebook"
   ]
  },
  {
   "cell_type": "markdown",
   "metadata": {},
   "source": [
    "A starter notebook for those planning to build your submission from scratch. Will update with EDA as and when time permits."
   ]
  },
  {
   "cell_type": "markdown",
   "metadata": {},
   "source": [
    "This notebook presents how to find correlation between features and grade features by importance for training."
   ]
  },
  {
   "cell_type": "code",
   "execution_count": 1,
   "metadata": {},
   "outputs": [],
   "source": [
    "import warnings\n",
    "warnings.filterwarnings('ignore')"
   ]
  },
  {
   "cell_type": "code",
   "execution_count": 2,
   "metadata": {
    "_cell_guid": "b1076dfc-b9ad-4769-8c92-a6c4dae69d19",
    "_uuid": "8f2839f25d086af736a60e9eeb907d3b93b6e0e5"
   },
   "outputs": [],
   "source": [
    "# This Python 3 environment comes with many helpful analytics libraries installed\n",
    "# It is defined by the kaggle/python Docker image: https://github.com/kaggle/docker-python\n",
    "# For example, here's several helpful packages to load\n",
    "\n",
    "import numpy as np # linear algebra\n",
    "import pandas as pd # data processing, CSV file I/O (e.g. pd.read_csv)\n",
    "\n",
    "import json\n",
    "from pandas.io.json import json_normalize\n",
    "\n",
    "# Input data files are available in the read-only \"../input/\" directory\n",
    "# For example, running this (by clicking run or pressing Shift+Enter) will list all files under the input directory\n",
    "\n",
    "import os\n",
    "#for dirname, _, filenames in os.walk('/kaggle/input'):\n",
    "#    for filename in filenames:\n",
    "#        print(os.path.join(dirname, filename))\n",
    "\n",
    "# You can write up to 5GB to the current directory (/kaggle/working/) that gets preserved as output when you create a version using \"Save & Run All\" \n",
    "# You can also write temporary files to /kaggle/temp/, but they won't be saved outside of the current session"
   ]
  },
  {
   "cell_type": "code",
   "execution_count": 3,
   "metadata": {},
   "outputs": [],
   "source": [
    "import datetime\n",
    "\n",
    "import IPython\n",
    "import IPython.display\n",
    "import matplotlib as mpl\n",
    "import matplotlib.pyplot as plt\n",
    "import seaborn as sns\n",
    "import tensorflow as tf\n",
    "from sklearn.ensemble import RandomForestRegressor\n",
    "\n",
    "mpl.rcParams['figure.figsize'] = (8, 6)\n",
    "mpl.rcParams['axes.grid'] = False"
   ]
  },
  {
   "cell_type": "markdown",
   "metadata": {},
   "source": [
    "## Read train and test json"
   ]
  },
  {
   "cell_type": "code",
   "execution_count": 4,
   "metadata": {},
   "outputs": [],
   "source": [
    "token2int = {x:i for i, x in enumerate('().ACGUBEHIMSX')}"
   ]
  },
  {
   "cell_type": "code",
   "execution_count": 5,
   "metadata": {},
   "outputs": [
    {
     "data": {
      "text/plain": [
       "(2400, 19)"
      ]
     },
     "execution_count": 5,
     "metadata": {},
     "output_type": "execute_result"
    }
   ],
   "source": [
    "train_full = pd.read_json('../../train.json', lines=True)\n",
    "train_full.shape"
   ]
  },
  {
   "cell_type": "code",
   "execution_count": 6,
   "metadata": {},
   "outputs": [
    {
     "data": {
      "text/html": [
       "<div>\n",
       "<style scoped>\n",
       "    .dataframe tbody tr th:only-of-type {\n",
       "        vertical-align: middle;\n",
       "    }\n",
       "\n",
       "    .dataframe tbody tr th {\n",
       "        vertical-align: top;\n",
       "    }\n",
       "\n",
       "    .dataframe thead th {\n",
       "        text-align: right;\n",
       "    }\n",
       "</style>\n",
       "<table border=\"1\" class=\"dataframe\">\n",
       "  <thead>\n",
       "    <tr style=\"text-align: right;\">\n",
       "      <th></th>\n",
       "      <th>0</th>\n",
       "      <th>1</th>\n",
       "      <th>2</th>\n",
       "      <th>3</th>\n",
       "      <th>4</th>\n",
       "    </tr>\n",
       "  </thead>\n",
       "  <tbody>\n",
       "    <tr>\n",
       "      <th>SN_filter</th>\n",
       "      <td>1</td>\n",
       "      <td>0</td>\n",
       "      <td>1</td>\n",
       "      <td>0</td>\n",
       "      <td>0</td>\n",
       "    </tr>\n",
       "    <tr>\n",
       "      <th>deg_50C</th>\n",
       "      <td>[0.6382, 3.4773, 0.9988, 1.3228, 0.78770000000...</td>\n",
       "      <td>[7.6692, 0.0, 10.9561, 0.0, 0.0, 0.0, 0.0, 0.0...</td>\n",
       "      <td>[0.9501000000000001, 1.7974999999999999, 1.499...</td>\n",
       "      <td>[7.6692, -1.3223, 0.0, 0.0, 0.0, 0.0, 0.0, 0.0...</td>\n",
       "      <td>[0.0, 5.1198, -0.3551, -0.3518, 0.0, 0.0, 0.0,...</td>\n",
       "    </tr>\n",
       "    <tr>\n",
       "      <th>deg_Mg_50C</th>\n",
       "      <td>[0.35810000000000003, 2.9683, 0.2589, 1.4552, ...</td>\n",
       "      <td>[4.8511, 4.0426, 0.0, 0.0, 0.0, 0.0, 0.0, 0.0,...</td>\n",
       "      <td>[0.5163, 1.6823000000000001, 1.0426, 0.7902, 0...</td>\n",
       "      <td>[0.0, -0.8365, 0.0, 0.0, 0.0, 0.0, 0.0, 0.0, 0...</td>\n",
       "      <td>[2.2052, 1.7947000000000002, 0.7457, 3.1233, 0...</td>\n",
       "    </tr>\n",
       "    <tr>\n",
       "      <th>deg_Mg_pH10</th>\n",
       "      <td>[0.7556, 2.983, 0.2526, 1.3789, 0.637600000000...</td>\n",
       "      <td>[0.0, 0.0, 0.0, 0.0, 0.0, 0.0, 0.0, 0.0, 0.0, ...</td>\n",
       "      <td>[0.2504, 1.4021, 0.9804, 0.49670000000000003, ...</td>\n",
       "      <td>[0.0, -0.5083, 0.0, 0.0, 0.0, 0.0, 0.0, 0.0, 0...</td>\n",
       "      <td>[2.1058, 3.138, 2.5437000000000003, 1.0932, 0....</td>\n",
       "    </tr>\n",
       "    <tr>\n",
       "      <th>deg_error_50C</th>\n",
       "      <td>[0.2167, 0.34750000000000003, 0.188, 0.2124, 0...</td>\n",
       "      <td>[15.4857, 7.9596, 13.3957, 5.8777, 5.8777, 5.8...</td>\n",
       "      <td>[0.14980000000000002, 0.1761, 0.1517, 0.116700...</td>\n",
       "      <td>[15.3995, 8.1124, 7.7824, 7.7824, 7.7824, 7.78...</td>\n",
       "      <td>[1.3285, 3.6173, 1.3057, 1.3021, 1.1507, 1.150...</td>\n",
       "    </tr>\n",
       "    <tr>\n",
       "      <th>deg_error_Mg_50C</th>\n",
       "      <td>[0.1501, 0.275, 0.0947, 0.18660000000000002, 0...</td>\n",
       "      <td>[16.6174, 13.868, 8.1968, 8.1968, 8.1968, 8.19...</td>\n",
       "      <td>[0.1033, 0.1464, 0.1126, 0.09620000000000001, ...</td>\n",
       "      <td>[121286.7181, 121286.7182, 121286.7181, 121286...</td>\n",
       "      <td>[2.6717, 2.4818, 1.9919, 2.5484999999999998, 1...</td>\n",
       "    </tr>\n",
       "    <tr>\n",
       "      <th>deg_error_Mg_pH10</th>\n",
       "      <td>[0.26130000000000003, 0.38420000000000004, 0.1...</td>\n",
       "      <td>[73705.3985, 73705.3985, 73705.3985, 73705.398...</td>\n",
       "      <td>[0.1365, 0.2237, 0.1812, 0.1333, 0.1148, 0.160...</td>\n",
       "      <td>[73705.3985, 73705.3985, 73705.3985, 73705.398...</td>\n",
       "      <td>[4.2139, 3.9637000000000002, 3.2467, 2.4716, 1...</td>\n",
       "    </tr>\n",
       "    <tr>\n",
       "      <th>deg_error_pH10</th>\n",
       "      <td>[0.2631, 0.28600000000000003, 0.0964, 0.1574, ...</td>\n",
       "      <td>[10.1986, 9.2418, 5.0933, 5.0933, 5.0933, 5.09...</td>\n",
       "      <td>[0.17020000000000002, 0.178, 0.111, 0.091, 0.0...</td>\n",
       "      <td>[11.8007, 12.7566, 5.7733, 5.7733, 5.7733, 5.7...</td>\n",
       "      <td>[3.0942, 3.015, 2.1212, 2.0552, 0.881500000000...</td>\n",
       "    </tr>\n",
       "    <tr>\n",
       "      <th>deg_pH10</th>\n",
       "      <td>[2.3375, 3.5060000000000002, 0.3008, 1.0108, 0...</td>\n",
       "      <td>[4.947, 4.4523, 0.0, 0.0, 0.0, 0.0, 0.0, 0.0, ...</td>\n",
       "      <td>[2.243, 2.9361, 1.0553, 0.721, 0.6396000000000...</td>\n",
       "      <td>[3.4248, 6.8128, 0.0, 0.0, 0.0, 0.0, 0.0, 0.0,...</td>\n",
       "      <td>[4.7366, 4.6243, 1.2068, 1.1538, 0.0, 0.0, 0.7...</td>\n",
       "    </tr>\n",
       "    <tr>\n",
       "      <th>id</th>\n",
       "      <td>id_001f94081</td>\n",
       "      <td>id_0049f53ba</td>\n",
       "      <td>id_006f36f57</td>\n",
       "      <td>id_0082d463b</td>\n",
       "      <td>id_0087940f4</td>\n",
       "    </tr>\n",
       "    <tr>\n",
       "      <th>index</th>\n",
       "      <td>0</td>\n",
       "      <td>1</td>\n",
       "      <td>2</td>\n",
       "      <td>3</td>\n",
       "      <td>4</td>\n",
       "    </tr>\n",
       "    <tr>\n",
       "      <th>predicted_loop_type</th>\n",
       "      <td>EEEEESSSSSSHHHHHHHSSSSBSSXSSIIIIISSIISSSSSSHHH...</td>\n",
       "      <td>EEEEESSSSSSSSSSSSSSSSSSSSSSSHHHHSSSSSSSSSSBSSS...</td>\n",
       "      <td>EEEEESSSSISSIIIIISSSSMSSSHHHHHSSSMMSSSSHHHHHHS...</td>\n",
       "      <td>EEEEEESSSSSSSSSSSSSSSSHHHHHHSSSSSSSSSSSSSSSSSS...</td>\n",
       "      <td>EEEEESSSSSSSBSSSSSSSSSSSSBSSSSSSSSSHHHHSSSSSSS...</td>\n",
       "    </tr>\n",
       "    <tr>\n",
       "      <th>reactivity</th>\n",
       "      <td>[0.3297, 1.5693000000000001, 1.1227, 0.8686, 0...</td>\n",
       "      <td>[0.0, 0.0, 0.0, 2.2965, 0.0, 0.0, 0.0, 0.0, 0....</td>\n",
       "      <td>[0.44820000000000004, 1.4822, 1.1819, 0.743400...</td>\n",
       "      <td>[0.0, 2.2399, 0.0, 0.0, 0.0, 0.0, 0.0, 0.0, 0....</td>\n",
       "      <td>[0.8267, 2.6577, 2.8481, 0.40090000000000003, ...</td>\n",
       "    </tr>\n",
       "    <tr>\n",
       "      <th>reactivity_error</th>\n",
       "      <td>[0.1359, 0.20700000000000002, 0.1633, 0.1452, ...</td>\n",
       "      <td>[2.8272, 2.8272, 2.8272, 4.7343, 2.5676, 2.567...</td>\n",
       "      <td>[0.0931, 0.13290000000000002, 0.11280000000000...</td>\n",
       "      <td>[3.5229, 6.0748, 3.0374, 3.0374, 3.0374, 3.037...</td>\n",
       "      <td>[1.665, 2.1728, 2.0041, 1.2405, 0.620200000000...</td>\n",
       "    </tr>\n",
       "    <tr>\n",
       "      <th>seq_length</th>\n",
       "      <td>107</td>\n",
       "      <td>107</td>\n",
       "      <td>107</td>\n",
       "      <td>107</td>\n",
       "      <td>107</td>\n",
       "    </tr>\n",
       "    <tr>\n",
       "      <th>seq_scored</th>\n",
       "      <td>68</td>\n",
       "      <td>68</td>\n",
       "      <td>68</td>\n",
       "      <td>68</td>\n",
       "      <td>68</td>\n",
       "    </tr>\n",
       "    <tr>\n",
       "      <th>sequence</th>\n",
       "      <td>GGAAAAGCUCUAAUAACAGGAGACUAGGACUACGUAUUUCUAGGUA...</td>\n",
       "      <td>GGAAAAAGCGCGCGCGGUUAGCGCGCGCUUUUGCGCGCGCUGUACC...</td>\n",
       "      <td>GGAAAGUGCUCAGAUAAGCUAAGCUCGAAUAGCAAUCGAAUAGAAU...</td>\n",
       "      <td>GGAAAAGCGCGCGCGCGCGCGCGAAAAAGCGCGCGCGCGCGCGCGC...</td>\n",
       "      <td>GGAAAAUAUAUAAUAUAUUAUAUAAAUAUAUUAUAGAAGUAUAAUA...</td>\n",
       "    </tr>\n",
       "    <tr>\n",
       "      <th>signal_to_noise</th>\n",
       "      <td>6.894</td>\n",
       "      <td>0.193</td>\n",
       "      <td>8.8</td>\n",
       "      <td>0.104</td>\n",
       "      <td>0.423</td>\n",
       "    </tr>\n",
       "    <tr>\n",
       "      <th>structure</th>\n",
       "      <td>.....((((((.......)))).)).((.....((..((((((......</td>\n",
       "      <td>.....(((((((((((((((((((((((....)))))))))).)))...</td>\n",
       "      <td>.....((((.((.....((((.(((.....)))..((((......)...</td>\n",
       "      <td>......((((((((((((((((......))))))))))))))))((...</td>\n",
       "      <td>.....(((((((.((((((((((((.(((((((((....)))))))...</td>\n",
       "    </tr>\n",
       "  </tbody>\n",
       "</table>\n",
       "</div>"
      ],
      "text/plain": [
       "                                                                     0  \\\n",
       "SN_filter                                                            1   \n",
       "deg_50C              [0.6382, 3.4773, 0.9988, 1.3228, 0.78770000000...   \n",
       "deg_Mg_50C           [0.35810000000000003, 2.9683, 0.2589, 1.4552, ...   \n",
       "deg_Mg_pH10          [0.7556, 2.983, 0.2526, 1.3789, 0.637600000000...   \n",
       "deg_error_50C        [0.2167, 0.34750000000000003, 0.188, 0.2124, 0...   \n",
       "deg_error_Mg_50C     [0.1501, 0.275, 0.0947, 0.18660000000000002, 0...   \n",
       "deg_error_Mg_pH10    [0.26130000000000003, 0.38420000000000004, 0.1...   \n",
       "deg_error_pH10       [0.2631, 0.28600000000000003, 0.0964, 0.1574, ...   \n",
       "deg_pH10             [2.3375, 3.5060000000000002, 0.3008, 1.0108, 0...   \n",
       "id                                                        id_001f94081   \n",
       "index                                                                0   \n",
       "predicted_loop_type  EEEEESSSSSSHHHHHHHSSSSBSSXSSIIIIISSIISSSSSSHHH...   \n",
       "reactivity           [0.3297, 1.5693000000000001, 1.1227, 0.8686, 0...   \n",
       "reactivity_error     [0.1359, 0.20700000000000002, 0.1633, 0.1452, ...   \n",
       "seq_length                                                         107   \n",
       "seq_scored                                                          68   \n",
       "sequence             GGAAAAGCUCUAAUAACAGGAGACUAGGACUACGUAUUUCUAGGUA...   \n",
       "signal_to_noise                                                  6.894   \n",
       "structure            .....((((((.......)))).)).((.....((..((((((......   \n",
       "\n",
       "                                                                     1  \\\n",
       "SN_filter                                                            0   \n",
       "deg_50C              [7.6692, 0.0, 10.9561, 0.0, 0.0, 0.0, 0.0, 0.0...   \n",
       "deg_Mg_50C           [4.8511, 4.0426, 0.0, 0.0, 0.0, 0.0, 0.0, 0.0,...   \n",
       "deg_Mg_pH10          [0.0, 0.0, 0.0, 0.0, 0.0, 0.0, 0.0, 0.0, 0.0, ...   \n",
       "deg_error_50C        [15.4857, 7.9596, 13.3957, 5.8777, 5.8777, 5.8...   \n",
       "deg_error_Mg_50C     [16.6174, 13.868, 8.1968, 8.1968, 8.1968, 8.19...   \n",
       "deg_error_Mg_pH10    [73705.3985, 73705.3985, 73705.3985, 73705.398...   \n",
       "deg_error_pH10       [10.1986, 9.2418, 5.0933, 5.0933, 5.0933, 5.09...   \n",
       "deg_pH10             [4.947, 4.4523, 0.0, 0.0, 0.0, 0.0, 0.0, 0.0, ...   \n",
       "id                                                        id_0049f53ba   \n",
       "index                                                                1   \n",
       "predicted_loop_type  EEEEESSSSSSSSSSSSSSSSSSSSSSSHHHHSSSSSSSSSSBSSS...   \n",
       "reactivity           [0.0, 0.0, 0.0, 2.2965, 0.0, 0.0, 0.0, 0.0, 0....   \n",
       "reactivity_error     [2.8272, 2.8272, 2.8272, 4.7343, 2.5676, 2.567...   \n",
       "seq_length                                                         107   \n",
       "seq_scored                                                          68   \n",
       "sequence             GGAAAAAGCGCGCGCGGUUAGCGCGCGCUUUUGCGCGCGCUGUACC...   \n",
       "signal_to_noise                                                  0.193   \n",
       "structure            .....(((((((((((((((((((((((....)))))))))).)))...   \n",
       "\n",
       "                                                                     2  \\\n",
       "SN_filter                                                            1   \n",
       "deg_50C              [0.9501000000000001, 1.7974999999999999, 1.499...   \n",
       "deg_Mg_50C           [0.5163, 1.6823000000000001, 1.0426, 0.7902, 0...   \n",
       "deg_Mg_pH10          [0.2504, 1.4021, 0.9804, 0.49670000000000003, ...   \n",
       "deg_error_50C        [0.14980000000000002, 0.1761, 0.1517, 0.116700...   \n",
       "deg_error_Mg_50C     [0.1033, 0.1464, 0.1126, 0.09620000000000001, ...   \n",
       "deg_error_Mg_pH10    [0.1365, 0.2237, 0.1812, 0.1333, 0.1148, 0.160...   \n",
       "deg_error_pH10       [0.17020000000000002, 0.178, 0.111, 0.091, 0.0...   \n",
       "deg_pH10             [2.243, 2.9361, 1.0553, 0.721, 0.6396000000000...   \n",
       "id                                                        id_006f36f57   \n",
       "index                                                                2   \n",
       "predicted_loop_type  EEEEESSSSISSIIIIISSSSMSSSHHHHHSSSMMSSSSHHHHHHS...   \n",
       "reactivity           [0.44820000000000004, 1.4822, 1.1819, 0.743400...   \n",
       "reactivity_error     [0.0931, 0.13290000000000002, 0.11280000000000...   \n",
       "seq_length                                                         107   \n",
       "seq_scored                                                          68   \n",
       "sequence             GGAAAGUGCUCAGAUAAGCUAAGCUCGAAUAGCAAUCGAAUAGAAU...   \n",
       "signal_to_noise                                                    8.8   \n",
       "structure            .....((((.((.....((((.(((.....)))..((((......)...   \n",
       "\n",
       "                                                                     3  \\\n",
       "SN_filter                                                            0   \n",
       "deg_50C              [7.6692, -1.3223, 0.0, 0.0, 0.0, 0.0, 0.0, 0.0...   \n",
       "deg_Mg_50C           [0.0, -0.8365, 0.0, 0.0, 0.0, 0.0, 0.0, 0.0, 0...   \n",
       "deg_Mg_pH10          [0.0, -0.5083, 0.0, 0.0, 0.0, 0.0, 0.0, 0.0, 0...   \n",
       "deg_error_50C        [15.3995, 8.1124, 7.7824, 7.7824, 7.7824, 7.78...   \n",
       "deg_error_Mg_50C     [121286.7181, 121286.7182, 121286.7181, 121286...   \n",
       "deg_error_Mg_pH10    [73705.3985, 73705.3985, 73705.3985, 73705.398...   \n",
       "deg_error_pH10       [11.8007, 12.7566, 5.7733, 5.7733, 5.7733, 5.7...   \n",
       "deg_pH10             [3.4248, 6.8128, 0.0, 0.0, 0.0, 0.0, 0.0, 0.0,...   \n",
       "id                                                        id_0082d463b   \n",
       "index                                                                3   \n",
       "predicted_loop_type  EEEEEESSSSSSSSSSSSSSSSHHHHHHSSSSSSSSSSSSSSSSSS...   \n",
       "reactivity           [0.0, 2.2399, 0.0, 0.0, 0.0, 0.0, 0.0, 0.0, 0....   \n",
       "reactivity_error     [3.5229, 6.0748, 3.0374, 3.0374, 3.0374, 3.037...   \n",
       "seq_length                                                         107   \n",
       "seq_scored                                                          68   \n",
       "sequence             GGAAAAGCGCGCGCGCGCGCGCGAAAAAGCGCGCGCGCGCGCGCGC...   \n",
       "signal_to_noise                                                  0.104   \n",
       "structure            ......((((((((((((((((......))))))))))))))))((...   \n",
       "\n",
       "                                                                     4  \n",
       "SN_filter                                                            0  \n",
       "deg_50C              [0.0, 5.1198, -0.3551, -0.3518, 0.0, 0.0, 0.0,...  \n",
       "deg_Mg_50C           [2.2052, 1.7947000000000002, 0.7457, 3.1233, 0...  \n",
       "deg_Mg_pH10          [2.1058, 3.138, 2.5437000000000003, 1.0932, 0....  \n",
       "deg_error_50C        [1.3285, 3.6173, 1.3057, 1.3021, 1.1507, 1.150...  \n",
       "deg_error_Mg_50C     [2.6717, 2.4818, 1.9919, 2.5484999999999998, 1...  \n",
       "deg_error_Mg_pH10    [4.2139, 3.9637000000000002, 3.2467, 2.4716, 1...  \n",
       "deg_error_pH10       [3.0942, 3.015, 2.1212, 2.0552, 0.881500000000...  \n",
       "deg_pH10             [4.7366, 4.6243, 1.2068, 1.1538, 0.0, 0.0, 0.7...  \n",
       "id                                                        id_0087940f4  \n",
       "index                                                                4  \n",
       "predicted_loop_type  EEEEESSSSSSSBSSSSSSSSSSSSBSSSSSSSSSHHHHSSSSSSS...  \n",
       "reactivity           [0.8267, 2.6577, 2.8481, 0.40090000000000003, ...  \n",
       "reactivity_error     [1.665, 2.1728, 2.0041, 1.2405, 0.620200000000...  \n",
       "seq_length                                                         107  \n",
       "seq_scored                                                          68  \n",
       "sequence             GGAAAAUAUAUAAUAUAUUAUAUAAAUAUAUUAUAGAAGUAUAAUA...  \n",
       "signal_to_noise                                                  0.423  \n",
       "structure            .....(((((((.((((((((((((.(((((((((....)))))))...  "
      ]
     },
     "execution_count": 6,
     "metadata": {},
     "output_type": "execute_result"
    }
   ],
   "source": [
    "train_full.head().T"
   ]
  },
  {
   "cell_type": "markdown",
   "metadata": {},
   "source": [
    "Not so intuitive, right. Lets see if we can flatten it."
   ]
  },
  {
   "cell_type": "code",
   "execution_count": 7,
   "metadata": {},
   "outputs": [],
   "source": [
    "train_json = [json.loads(line) for line in open('../../train.json', 'r')]"
   ]
  },
  {
   "cell_type": "code",
   "execution_count": null,
   "metadata": {},
   "outputs": [],
   "source": [
    "def preprocess_json(input_json):\n",
    "    \n",
    "    for index,json_ in enumerate(input_json):\n",
    "        length = json_['seq_scored']\n",
    "        json_['step'] = list(range(length))\n",
    "            \n",
    "        json_['sequence'] = pd.Series([json_['sequence']]).map(lambda seq: [token2int[x] for x in seq]).values.tolist()[0][:length]\n",
    "        json_['structure'] = pd.Series([json_['structure']]).map(lambda seq: [token2int[x] for x in seq]).values.tolist()[0][:length]\n",
    "        json_['predicted_loop_type'] = pd.Series([json_['predicted_loop_type']]).map(lambda seq: [token2int[x] for x in seq]).values.tolist()[0][:length]\n",
    "        if os.path.exists('../../bpps/'+json_['id']+'.npy'):\n",
    "            json_['unpaired_probability'] = list(1-sum(np.load('../../bpps/'+json_['id']+'.npy')))[:length]\n",
    "        else:\n",
    "            print('bpps not found')\n",
    "\n",
    "preprocess_json(train_json)"
   ]
  },
  {
   "cell_type": "code",
   "execution_count": null,
   "metadata": {},
   "outputs": [],
   "source": [
    "def process_json(input_json):\n",
    "    train = pd.json_normalize(data = input_json, \n",
    "                                record_path ='step',  \n",
    "                                meta =['id','seq_length','seq_scored']) \n",
    "    train.rename(columns={0:'step'}, inplace=True)\n",
    "    train['unpaired_probability'] = pd.json_normalize(data = input_json, \n",
    "                                record_path ='unpaired_probability'\n",
    "                                            )\n",
    "    train['sequence'] = pd.json_normalize(data = input_json, \n",
    "                                record_path ='sequence'\n",
    "                                            )\n",
    "    train['structure'] = pd.json_normalize(data = input_json, \n",
    "                                record_path ='structure'\n",
    "                                            )\n",
    "    train['predicted_loop_type'] = pd.json_normalize(data = input_json, \n",
    "                                record_path ='predicted_loop_type'\n",
    "                                            )\n",
    "    train['reactivity'] = pd.json_normalize(data = input_json, \n",
    "                                    record_path ='reactivity'\n",
    "                                                )\n",
    "    train['reactivity_error'] = pd.json_normalize(data = input_json, \n",
    "                                    record_path ='reactivity_error'\n",
    "                                                )\n",
    "    train['deg_Mg_pH10'] = pd.json_normalize(data = input_json, \n",
    "                                    record_path ='deg_Mg_pH10'\n",
    "                                                )\n",
    "    train['deg_error_Mg_pH10'] = pd.json_normalize(data = input_json, \n",
    "                                    record_path ='deg_error_Mg_pH10'\n",
    "                                                )\n",
    "    train['deg_pH10'] = pd.json_normalize(data = input_json, \n",
    "                                    record_path ='deg_pH10',\n",
    "                                                )\n",
    "    train['deg_error_pH10'] = pd.json_normalize(data = input_json, \n",
    "                                    record_path ='deg_error_pH10',\n",
    "                                                )\n",
    "    train['deg_Mg_50C'] = pd.json_normalize(data = input_json, \n",
    "                                    record_path ='deg_Mg_50C',\n",
    "                                                )\n",
    "    train['deg_error_Mg_50C'] = pd.json_normalize(data = input_json, \n",
    "                                    record_path ='deg_error_Mg_50C',\n",
    "                                                )\n",
    "    train['deg_50C'] = pd.json_normalize(data = input_json, \n",
    "                                    record_path ='deg_50C',\n",
    "                                                )\n",
    "    train['deg_error_50C'] = pd.json_normalize(data = input_json, \n",
    "                                    record_path ='deg_error_50C',\n",
    "                                                )\n",
    "        \n",
    "    train.set_index(['id','step'], inplace=True)\n",
    "    return train\n",
    "\n",
    "X_train = process_json(train_json)"
   ]
  },
  {
   "cell_type": "code",
   "execution_count": null,
   "metadata": {},
   "outputs": [],
   "source": [
    "def post_process_json(input_df):\n",
    "    input_df = pd.concat([input_df.drop('sequence', axis=1), pd.get_dummies(input_df['sequence'], prefix='Base')], axis=1)\n",
    "    input_df = pd.concat([input_df.drop('structure', axis=1), pd.get_dummies(input_df['structure'], prefix='Structure')], axis=1)\n",
    "    input_df = pd.concat([input_df.drop('predicted_loop_type', axis=1), pd.get_dummies(input_df['predicted_loop_type'], prefix='Loop')], axis=1)\n",
    "    return input_df\n",
    "\n",
    "X_train_full = post_process_json(X_train)"
   ]
  },
  {
   "cell_type": "code",
   "execution_count": null,
   "metadata": {},
   "outputs": [],
   "source": [
    "label_cols = ['reactivity','deg_Mg_pH10','deg_pH10','deg_Mg_50C','deg_50C']\n",
    "y_train = X_train_full[label_cols]"
   ]
  },
  {
   "cell_type": "code",
   "execution_count": null,
   "metadata": {},
   "outputs": [],
   "source": [
    "input_cols = ['Base_3','Base_4','Base_5','Base_6','Structure_0','Structure_1','Structure_2','Loop_7','Loop_8','Loop_9','Loop_10','Loop_11','Loop_12','Loop_13']\n",
    "X_train = X_train_full[input_cols]"
   ]
  },
  {
   "cell_type": "markdown",
   "metadata": {},
   "source": [
    "## Find the correlation between Features and Display on a heatmap"
   ]
  },
  {
   "cell_type": "code",
   "execution_count": null,
   "metadata": {},
   "outputs": [],
   "source": [
    "corr_matrix = X_train.corr()\n",
    "\n",
    "mask = np.zeros_like(corr_matrix, dtype=np.bool)\n",
    "mask[np.triu_indices_from(mask)]= True\n",
    "\n",
    "f, ax = plt.subplots(figsize=(20, 20)) \n",
    "heatmap = sns.heatmap(corr_matrix, \n",
    "                      mask = mask,\n",
    "                      square = True,\n",
    "                      linewidths = .5,\n",
    "                      cmap = 'coolwarm',\n",
    "                      cbar_kws = {'shrink': .4, \n",
    "                                'ticks' : [-1, -.5, 0, 0.5, 1]},\n",
    "                      vmin = -1, \n",
    "                      vmax = 1,\n",
    "                      annot = True,\n",
    "                      annot_kws = {'size': 12})#add the column names as labels\n",
    "ax.set_yticklabels(corr_matrix.columns, rotation = 0)\n",
    "ax.set_xticklabels(corr_matrix.columns)\n",
    "sns.set_style({'xtick.bottom': True}, {'ytick.left': True})"
   ]
  },
  {
   "cell_type": "code",
   "execution_count": null,
   "metadata": {},
   "outputs": [],
   "source": [
    "print(token2int)"
   ]
  },
  {
   "cell_type": "markdown",
   "metadata": {},
   "source": [
    "It can be seen that loop 12 ('S' type - paired stem) has good correlation with Structure.  Especially Structure 2, i.e. unpaired bases has a -1 correlation, which means they are negatively correlated. This is correct since an unpaired base cannot form a paired stem. And structure 0 and structure 1 has correlation 0.58 each, which is also intuitive as they are the paired bases forming the paired stem. Hence it can be hypothesised that the structure fields do not add any new information over the loop 12 filed and can be removed."
   ]
  },
  {
   "cell_type": "markdown",
   "metadata": {},
   "source": [
    "## Feature Importance"
   ]
  },
  {
   "cell_type": "markdown",
   "metadata": {},
   "source": [
    "Lets check these assumptions with a feature importance metric derived from Random Forest"
   ]
  },
  {
   "cell_type": "code",
   "execution_count": null,
   "metadata": {},
   "outputs": [],
   "source": [
    "model = RandomForestRegressor(n_estimators=100, max_depth=10, random_state=42)\n",
    "model.fit(X_train, y_train)\n",
    "importances = pd.DataFrame({'feature':input_cols,'importance':np.round(model.feature_importances_,3)})\n",
    "\n",
    "plt.figure(figsize=(10, 5))\n",
    "sns.barplot(x=importances['importance'], y=importances['feature'])\n",
    "plt.title('Feaure Importance')\n",
    "plt.tight_layout()\n",
    "importances = importances.sort_values('importance',ascending=False).set_index('feature')\n",
    "importances"
   ]
  },
  {
   "cell_type": "markdown",
   "metadata": {},
   "source": [
    "It can be seen that first four features amount to almost 90% of information. Base unpaired information (structure 2), loop 8(E), loop 12(S), loop 9(H), loop 10(I) and bases can provide almost the full information. Structure 0 and structure 1 contribution is less because this information is there in loop12. But eventhough structure 2 and loop 12 have a -1 correlation, that is not depicted here. This is here the forest is unable to decode this link, Lets probe further to see if we can use that information as well."
   ]
  },
  {
   "cell_type": "markdown",
   "metadata": {},
   "source": [
    "## Feature:Unpaired Probability\n",
    "\n",
    "Lets repeat the above analysis with unpaired probability."
   ]
  },
  {
   "cell_type": "code",
   "execution_count": null,
   "metadata": {},
   "outputs": [],
   "source": [
    "input_cols = ['unpaired_probability','Base_3','Base_4','Base_5','Base_6','Structure_0','Structure_1','Structure_2','Loop_7','Loop_8','Loop_9','Loop_10','Loop_11','Loop_12','Loop_13']\n",
    "X_train = X_train_full[input_cols]"
   ]
  },
  {
   "cell_type": "code",
   "execution_count": null,
   "metadata": {},
   "outputs": [],
   "source": [
    "corr_matrix = X_train.corr()\n",
    "\n",
    "mask = np.zeros_like(corr_matrix, dtype=np.bool)\n",
    "mask[np.triu_indices_from(mask)]= True\n",
    "\n",
    "f, ax = plt.subplots(figsize=(20, 20)) \n",
    "heatmap = sns.heatmap(corr_matrix, \n",
    "                      mask = mask,\n",
    "                      square = True,\n",
    "                      linewidths = .5,\n",
    "                      cmap = 'coolwarm',\n",
    "                      cbar_kws = {'shrink': .4, \n",
    "                                'ticks' : [-1, -.5, 0, 0.5, 1]},\n",
    "                      vmin = -1, \n",
    "                      vmax = 1,\n",
    "                      annot = True,\n",
    "                      annot_kws = {'size': 12})#add the column names as labels\n",
    "ax.set_yticklabels(corr_matrix.columns, rotation = 0)\n",
    "ax.set_xticklabels(corr_matrix.columns)\n",
    "sns.set_style({'xtick.bottom': True}, {'ytick.left': True})"
   ]
  },
  {
   "cell_type": "markdown",
   "metadata": {},
   "source": [
    "It can be noted that there is high negative correlation between unpaired probability and loop 12, structure information. This is also intuitive as paired bases will have near to zero unpaired probability and unpaired bases will have near to one unpaired probability. So it seems that this single feature can encode the information in these 4 fields. Lets check it out."
   ]
  },
  {
   "cell_type": "code",
   "execution_count": null,
   "metadata": {},
   "outputs": [],
   "source": [
    "model = RandomForestRegressor(n_estimators=100, max_depth=10, random_state=42)\n",
    "model.fit(X_train, y_train)\n",
    "importances = pd.DataFrame({'feature':input_cols,'importance':np.round(model.feature_importances_,3)})\n",
    "\n",
    "plt.figure(figsize=(10, 5))\n",
    "sns.barplot(x=importances['importance'], y=importances['feature'])\n",
    "plt.title('Feaure Importance')\n",
    "plt.tight_layout()\n",
    "importances = importances.sort_values('importance',ascending=False).set_index('feature')\n",
    "importances"
   ]
  },
  {
   "cell_type": "markdown",
   "metadata": {},
   "source": [
    "It can be seen that unpaired probability, base type and loop 8 ('E') have major contribution to output. And as hypothesised, the contributions of structure and loop 12 have gone down which is a good indication. It can be also noted that unpaired probability contributes about 85% of all the information,"
   ]
  },
  {
   "cell_type": "markdown",
   "metadata": {},
   "source": [
    "### Make dummy submission File"
   ]
  },
  {
   "cell_type": "markdown",
   "metadata": {},
   "source": [
    "This will be overwritten if everything works fine."
   ]
  },
  {
   "cell_type": "code",
   "execution_count": null,
   "metadata": {
    "_cell_guid": "79c7e3d0-c299-4dcb-8224-4455121ee9b0",
    "_uuid": "d629ff2d2480ee46fbb7e2d37f6b5fab8052498a"
   },
   "outputs": [],
   "source": [
    "submission = pd.read_csv('../input/stanford-covid-vaccine/sample_submission.csv', index_col= 0)\n",
    "submission.to_csv('submission.csv')\n",
    "submission.T"
   ]
  },
  {
   "cell_type": "markdown",
   "metadata": {},
   "source": [
    "You have to make 107 / 130 predictions per input for the 5 parameters (only 3 of these are used for scoring)."
   ]
  },
  {
   "cell_type": "markdown",
   "metadata": {},
   "source": [
    "## Develop Your model"
   ]
  },
  {
   "cell_type": "markdown",
   "metadata": {},
   "source": [
    "Seems you will need something like an LSTM that works on sequence data."
   ]
  },
  {
   "cell_type": "code",
   "execution_count": null,
   "metadata": {},
   "outputs": [],
   "source": [
    "# Dummy"
   ]
  },
  {
   "cell_type": "markdown",
   "metadata": {},
   "source": [
    "## Train your model"
   ]
  },
  {
   "cell_type": "code",
   "execution_count": null,
   "metadata": {},
   "outputs": [],
   "source": [
    "# Dummy"
   ]
  },
  {
   "cell_type": "markdown",
   "metadata": {},
   "source": [
    "## Perform your prediction"
   ]
  },
  {
   "cell_type": "code",
   "execution_count": null,
   "metadata": {},
   "outputs": [],
   "source": [
    "# Dummy"
   ]
  },
  {
   "cell_type": "markdown",
   "metadata": {},
   "source": [
    "## Filling dummy values"
   ]
  },
  {
   "cell_type": "markdown",
   "metadata": {},
   "source": [
    "Lets use values mean and std from train data as a dummy submission"
   ]
  },
  {
   "cell_type": "code",
   "execution_count": null,
   "metadata": {},
   "outputs": [],
   "source": [
    "y_train.describe()"
   ]
  },
  {
   "cell_type": "code",
   "execution_count": null,
   "metadata": {},
   "outputs": [],
   "source": [
    "n = submission.shape[0]\n",
    "reactivity_bar = 0.374922; reactivity_sd = 0.725652\n",
    "deg_Mg_pH10_bar = 0.446303; deg_Mg_pH10_sd = 0.704172\n",
    "deg_pH10_bar = 0.446911; deg_pH10_sd = 1.285747\n",
    "deg_Mg_50C_bar = 0.407030; deg_Mg_50C_sd = 0.868013\n",
    "deg_50C_bar = 0.425889; deg_50C_sd = 1.122356\n",
    "submission['reactivity']=np.random.normal(reactivity_bar, reactivity_sd, size=n)\n",
    "submission['deg_Mg_pH10']=np.random.normal(deg_Mg_pH10_bar, deg_Mg_pH10_sd, size=n)\n",
    "submission['deg_pH10']=np.random.normal(deg_pH10_bar, deg_pH10_sd, size=n)\n",
    "submission['deg_Mg_50C']=np.random.normal(deg_Mg_50C_bar, deg_Mg_50C_sd, size=n)\n",
    "submission['deg_50C']=np.random.normal(deg_50C_bar, deg_50C_sd, size=n)\n",
    "submission"
   ]
  },
  {
   "cell_type": "markdown",
   "metadata": {},
   "source": [
    "## Submit"
   ]
  },
  {
   "cell_type": "code",
   "execution_count": null,
   "metadata": {},
   "outputs": [],
   "source": [
    "submission.to_csv('submission.csv')"
   ]
  },
  {
   "cell_type": "markdown",
   "metadata": {},
   "source": [
    "# EOF"
   ]
  }
 ],
 "metadata": {
  "kernelspec": {
   "display_name": "Python 3",
   "language": "python",
   "name": "python3"
  },
  "language_info": {
   "codemirror_mode": {
    "name": "ipython",
    "version": 3
   },
   "file_extension": ".py",
   "mimetype": "text/x-python",
   "name": "python",
   "nbconvert_exporter": "python",
   "pygments_lexer": "ipython3",
   "version": "3.7.3"
  }
 },
 "nbformat": 4,
 "nbformat_minor": 4
}
