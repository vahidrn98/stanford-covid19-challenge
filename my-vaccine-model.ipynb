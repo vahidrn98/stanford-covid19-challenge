{
 "cells": [
  {
   "cell_type": "code",
   "execution_count": 73,
   "metadata": {},
   "outputs": [],
   "source": [
    "import numpy as np \n",
    "import pandas as pd \n",
    "import json\n",
    "from pandas.io.json import json_normalize\n",
    "import os\n",
    "from sklearn.model_selection import StratifiedKFold\n",
    "import torch\n",
    "import random\n",
    "from torch.nn import Linear, LayerNorm, ReLU, Dropout\n",
    "from torch_geometric.nn import ChebConv, NNConv, DeepGCNLayer\n",
    "from torch_geometric.data import Data, DataLoader\n",
    "import torchvision\n",
    "import torchvision.transforms as transforms\n",
    "import torch.nn as nn\n",
    "import torch.nn.functional as F\n",
    "import matplotlib.pyplot as plt\n",
    "from tqdm import tqdm\n",
    "from time import perf_counter\n",
    "import optuna"
   ]
  },
  {
   "cell_type": "code",
   "execution_count": 36,
   "metadata": {},
   "outputs": [],
   "source": [
    "device = torch.device('cuda' if torch.cuda.is_available() else 'cpu')"
   ]
  },
  {
   "cell_type": "code",
   "execution_count": 38,
   "metadata": {},
   "outputs": [
    {
     "name": "stdout",
     "output_type": "stream",
     "text": [
      "cpu\n"
     ]
    }
   ],
   "source": [
    "print(device)"
   ]
  },
  {
   "cell_type": "code",
   "execution_count": 84,
   "metadata": {},
   "outputs": [],
   "source": [
    "\n",
    "train = pd.read_json('../train.json', lines=True)"
   ]
  },
  {
   "cell_type": "code",
   "execution_count": 85,
   "metadata": {},
   "outputs": [],
   "source": [
    "train=train.set_index(\"index\")"
   ]
  },
  {
   "cell_type": "code",
   "execution_count": 86,
   "metadata": {},
   "outputs": [],
   "source": [
    "train=train[train[\"signal_to_noise\"]>=1]"
   ]
  },
  {
   "cell_type": "code",
   "execution_count": 87,
   "metadata": {},
   "outputs": [],
   "source": [
    "train=train.assign(pair_prob=[np.load('../bpps/'+row['id']+'.npy') for index,row in train.iterrows()]) "
   ]
  },
  {
   "cell_type": "code",
   "execution_count": 6,
   "metadata": {},
   "outputs": [],
   "source": [
    "bpps_nb_mean = 0.077522 # mean of bpps_nb across all training data\n",
    "bpps_nb_std = 0.08914  \n",
    "error_mean_limit = 0.5"
   ]
  },
  {
   "cell_type": "code",
   "execution_count": 7,
   "metadata": {},
   "outputs": [],
   "source": [
    "target_col = ['reactivity', 'deg_Mg_pH10', 'deg_pH10', 'deg_Mg_50C', 'deg_50C']\n",
    "\n",
    "rna_dict    = {x:i for i, x in enumerate('ACGU')} #4\n",
    "struct_dict = {x:i for i, x in enumerate('().')}  #3\n",
    "loop_dict   = {x:i for i, x in enumerate('BEHIMSX')}#7"
   ]
  },
  {
   "cell_type": "code",
   "execution_count": 66,
   "metadata": {},
   "outputs": [],
   "source": [
    "pair_threshold = 0.15\n",
    "pair_prob = train[\"pair_prob\"].values\n",
    "def create_adj(index):\n",
    "    mat = np.array(pair_prob[index])\n",
    "    shape = mat.shape\n",
    "    for i in range(shape[0]):\n",
    "        for j in range(shape[1]):\n",
    "            if(i==j):\n",
    "                mat[i][j] = 1\n",
    "                continue\n",
    "            if(mat[i][j]>pair_threshold):\n",
    "                mat[i][j]=1\n",
    "            else:\n",
    "                mat[i][j]=0\n",
    "    return mat\n",
    "def calc_error_mean(row):\n",
    "    reactivity_error = row['reactivity_error']\n",
    "    deg_error_Mg_pH10 = row['deg_error_Mg_pH10']\n",
    "    deg_error_Mg_50C = row['deg_error_Mg_50C']\n",
    "\n",
    "    return np.mean(np.abs(reactivity_error) +\n",
    "                   np.abs(deg_error_Mg_pH10) + \\\n",
    "                   np.abs(deg_error_Mg_50C)) / 3\n",
    "\n",
    "def calc_sample_weight(row):\n",
    "\n",
    "    error_mean = calc_error_mean(row)\n",
    "    if error_mean >= error_mean_limit:\n",
    "        return 0.\n",
    "\n",
    "    return 1. - error_mean / error_mean_limit\n",
    "def weighted_mse_loss(prds, tgts, weight):\n",
    "    return torch.mean(weight * (prds - tgts)**2)\n",
    "\n",
    "def criterion(prds, tgts):\n",
    "#     print(prds)\n",
    "#     print(tgts)\n",
    "    return (torch.sqrt(torch.nn.MSELoss()(prds, tgts)))\n",
    "\n",
    "def add_edges(edge_index, edge_features, node1, node2, feature1, feature2):\n",
    "    edge_index.append([node1, node2])\n",
    "    edge_features.append(feature1)\n",
    "    edge_index.append([node2, node1])\n",
    "    edge_features.append(feature2)\n",
    "\n",
    "def add_edges_between_base_nodes(edge_index, edge_features, node1, node2):\n",
    "    edge_feature1 = [\n",
    "        0, # is edge for paired nodes\n",
    "        0, # is edge between codon node and base node\n",
    "        0, # is edge between coden nodes\n",
    "        1, # forward edge: 1, backward edge: -1\n",
    "        1, # bpps if edge is for paired nodes\n",
    "    ]\n",
    "    edge_feature2 = [\n",
    "        0, # is edge for paired nodes\n",
    "        0, # is edge between codon node and base node\n",
    "        0, # is edge between coden nodes\n",
    "        -1, # forward edge: 1, backward edge: -1\n",
    "        1, # bpps if edge is for paired nodes\n",
    "    ]\n",
    "    add_edges(edge_index, edge_features, node1, node2,\n",
    "              edge_feature1, edge_feature2)\n",
    "\n",
    "def add_edges_between_paired_nodes(edge_index, edge_features, node1, node2,\n",
    "                                   bpps_value):\n",
    "    edge_feature1 = [\n",
    "        1, # is edge for paired nodes\n",
    "        0, # is edge between codon node and base node\n",
    "        0, # is edge between coden nodes\n",
    "        0, # forward edge: 1, backward edge: -1\n",
    "        bpps_value, # bpps if edge is for paired nodes\n",
    "    ]\n",
    "    edge_feature2 = [\n",
    "        1, # is edge for paired nodes\n",
    "        0, # is edge between codon node and base node\n",
    "        0, # is edge between coden nodes\n",
    "        0, # forward edge: 1, backward edge: -1\n",
    "        bpps_value, # bpps if edge is for paired nodes\n",
    "    ]\n",
    "    add_edges(edge_index, edge_features, node1, node2,\n",
    "              edge_feature1, edge_feature2)\n",
    "\n",
    "def add_edges_between_codon_nodes(edge_index, edge_features, node1, node2):\n",
    "    edge_feature1 = [\n",
    "        0, # is edge for paired nodes\n",
    "        0, # is edge between codon node and base node\n",
    "        1, # is edge between coden nodes\n",
    "        1, # forward edge: 1, backward edge: -1\n",
    "        0, # bpps if edge is for paired nodes\n",
    "    ]\n",
    "    edge_feature2 = [\n",
    "        0, # is edge for paired nodes\n",
    "        0, # is edge between codon node and base node\n",
    "        1, # is edge between coden nodes\n",
    "        -1, # forward edge: 1, backward edge: -1\n",
    "        0, # bpps if edge is for paired nodes\n",
    "    ]\n",
    "    add_edges(edge_index, edge_features, node1, node2,\n",
    "              edge_feature1, edge_feature2)\n",
    "\n",
    "def add_edges_between_codon_and_base_node(edge_index, edge_features,\n",
    "                                          node1, node2):\n",
    "    edge_feature1 = [\n",
    "        0, # is edge for paired nodes\n",
    "        1, # is edge between codon node and base node\n",
    "        0, # is edge between coden nodes\n",
    "        0, # forward edge: 1, backward edge: -1\n",
    "        0, # bpps if edge is for paired nodes\n",
    "    ]\n",
    "    edge_feature2 = [\n",
    "        0, # is edge for paired nodes\n",
    "        1, # is edge between codon node and base node\n",
    "        0, # is edge between coden nodes\n",
    "        0, # forward edge: 1, backward edge: -1\n",
    "        0, # bpps if edge is for paired nodes\n",
    "    ]\n",
    "    add_edges(edge_index, edge_features, node1, node2,\n",
    "              edge_feature1, edge_feature2)\n",
    "\n",
    "def add_node(node_features, feature):\n",
    "    node_features.append(feature)\n",
    "\n",
    "def add_base_node(node_features, sequence, predicted_loop_type,\n",
    "                  bpps_sum, bpps_nb):\n",
    "    feature = [\n",
    "        0, # is codon node\n",
    "        sequence == 'A',\n",
    "        sequence == 'C',\n",
    "        sequence == 'G',\n",
    "        sequence == 'U',\n",
    "        predicted_loop_type == 'S',\n",
    "        predicted_loop_type == 'M',\n",
    "        predicted_loop_type == 'I',\n",
    "        predicted_loop_type == 'B',\n",
    "        predicted_loop_type == 'H',\n",
    "        predicted_loop_type == 'E',\n",
    "        predicted_loop_type == 'X',\n",
    "        bpps_sum,\n",
    "        bpps_nb,\n",
    "    ]\n",
    "    add_node(node_features, feature)\n",
    "\n",
    "def add_codon_node(node_features):\n",
    "    feature = [\n",
    "        1, # is codon node\n",
    "        0, # sequence == 'A',\n",
    "        0, # sequence == 'C',\n",
    "        0, # sequence == 'G',\n",
    "        0, # sequence == 'U',\n",
    "        0, # predicted_loop_type == 'S',\n",
    "        0, # predicted_loop_type == 'M',\n",
    "        0, # predicted_loop_type == 'I',\n",
    "        0, # predicted_loop_type == 'B',\n",
    "        0, # predicted_loop_type == 'H',\n",
    "        0, # predicted_loop_type == 'E',\n",
    "        0, # predicted_loop_type == 'X',\n",
    "        0, # bpps_sum\n",
    "        0, # bpps_nb\n",
    "    ]\n",
    "    add_node(node_features, feature)\n",
    "\n",
    "    \n",
    "def build_data(df, is_train):\n",
    "    data = []\n",
    "    for i in range(len(df)):\n",
    "        targets = []\n",
    "        node_features = []\n",
    "        edge_features = []\n",
    "        edge_index = []\n",
    "        train_mask = []\n",
    "        test_mask = []\n",
    "        weights = []\n",
    "\n",
    "        id = df.loc[i, 'id']\n",
    "        path = os.path.join('../bpps', id + '.npy')\n",
    "        bpps = np.load(path)\n",
    "        bpps_sum = bpps.sum(axis=0)\n",
    "        sequence = df.loc[i, 'sequence']\n",
    "        structure = df.loc[i, 'structure']\n",
    "        pair_info = match_pair(structure)\n",
    "        predicted_loop_type = df.loc[i, 'predicted_loop_type']\n",
    "        seq_length = df.loc[i, 'seq_length']\n",
    "        seq_scored = df.loc[i, 'seq_scored']\n",
    "        bpps_nb = (bpps > 0).sum(axis=0) / seq_length\n",
    "        bpps_nb = (bpps_nb - bpps_nb_mean) / bpps_nb_std\n",
    "        if is_train:\n",
    "            sample_weight = calc_sample_weight(df.loc[i])\n",
    "\n",
    "            reactivity = df.loc[i, 'reactivity']\n",
    "            deg_Mg_pH10 = df.loc[i, 'deg_Mg_pH10']\n",
    "            deg_Mg_50C = df.loc[i, 'deg_Mg_50C']\n",
    "\n",
    "            for j in range(seq_length):\n",
    "                if j < seq_scored:\n",
    "                    targets.append([\n",
    "                        reactivity[j],\n",
    "                        deg_Mg_pH10[j],\n",
    "                        deg_Mg_50C[j],\n",
    "                        ])\n",
    "                else:\n",
    "                    targets.append([0, 0, 0])\n",
    "\n",
    "        paired_nodes = {}\n",
    "        for j in range(seq_length):\n",
    "            add_base_node(node_features, sequence[j], predicted_loop_type[j],\n",
    "                          bpps_sum[j], bpps_nb[j])\n",
    "\n",
    "            if j + 1 < seq_length: # edge between current node and next node\n",
    "                add_edges_between_base_nodes(edge_index, edge_features,\n",
    "                                             j, j + 1)\n",
    "\n",
    "            if pair_info[j] != -1:\n",
    "                if pair_info[j] not in paired_nodes:\n",
    "                    paired_nodes[pair_info[j]] = [j]\n",
    "                else:\n",
    "                    paired_nodes[pair_info[j]].append(j)\n",
    "\n",
    "            train_mask.append(j < seq_scored)\n",
    "            test_mask.append(True)\n",
    "            if is_train:\n",
    "                weights.append(sample_weight)\n",
    "\n",
    "       \n",
    "        for pair in paired_nodes.values():\n",
    "            bpps_value = bpps[pair[0], pair[1]]\n",
    "            add_edges_between_paired_nodes(edge_index, edge_features,\n",
    "                                           pair[0], pair[1], bpps_value)\n",
    "\n",
    "       \n",
    "        codon_node_idx = seq_length - 1\n",
    "        for j in range(seq_length):\n",
    "            if j % 3 == 0:\n",
    "                # add codon node\n",
    "                add_codon_node(node_features)\n",
    "                codon_node_idx += 1\n",
    "                train_mask.append(False)\n",
    "                test_mask.append(False)\n",
    "                if is_train:\n",
    "                    weights.append(0)\n",
    "                    targets.append([0, 0, 0])\n",
    "\n",
    "                if codon_node_idx > seq_length:\n",
    "                    # add edges between adjacent codon nodes\n",
    "                    add_edges_between_codon_nodes(edge_index, edge_features,\n",
    "                                                  codon_node_idx - 1,\n",
    "                                                  codon_node_idx)\n",
    "\n",
    "            # add edges between codon node and base node\n",
    "            add_edges_between_codon_and_base_node(edge_index, edge_features,\n",
    "                                                  j, codon_node_idx)\n",
    "\n",
    "        node_features = torch.tensor(node_features, dtype=torch.float)\n",
    "        edge_index = torch.tensor(edge_index, dtype=torch.long).t().contiguous()\n",
    "        edge_features = torch.tensor(edge_features, dtype=torch.float)\n",
    "\n",
    "        if is_train:\n",
    "            data.append(MyData(x=node_features, edge_index=edge_index,\n",
    "                               edge_attr=edge_features,\n",
    "                               train_mask=torch.tensor(train_mask),\n",
    "                               weight=torch.tensor(weights, dtype=torch.float),\n",
    "                               y=torch.tensor(targets, dtype=torch.float)))\n",
    "        else:\n",
    "            data.append(MyData(x=node_features, edge_index=edge_index,\n",
    "                               edge_attr=edge_features,\n",
    "                               test_mask=torch.tensor(test_mask)))\n",
    "\n",
    "    return data\n",
    "\n",
    "def np_onehot(x, max=54):\n",
    "    return np.eye(max)[x]"
   ]
  },
  {
   "cell_type": "code",
   "execution_count": 9,
   "metadata": {},
   "outputs": [],
   "source": [
    "class CNN2D(nn.Module):\n",
    "    def __init__(self):\n",
    "        super(CNN2D, self).__init__()\n",
    "        self.conv1 = nn.Conv2d(2, 10, (3,2))\n",
    "        self.conv2 = nn.Conv2d(10, 10, (2,1))\n",
    "        self.fc1 = nn.Linear(10 * 31, 200)\n",
    "        self.fc2 = nn.Linear(200, 200)\n",
    "        self.fc3 = nn.Linear(200, 100)\n",
    "        self.fc4 = nn.Linear(100, 68)\n",
    "\n",
    "    def forward(self, x):\n",
    "        x = F.tanh(self.conv1(x))\n",
    "        x = F.tanh(self.conv2(x))\n",
    "        x = x.view(-1, 10 * 31)\n",
    "        x = F.tanh(self.fc1(x))\n",
    "#         x = F.dropout(x,0.2)\n",
    "        x = F.tanh(self.fc2(x))\n",
    "#         x = F.dropout(x,0.2)\n",
    "        x = F.tanh(self.fc3(x))\n",
    "        x = self.fc4(x)\n",
    "        return x"
   ]
  },
  {
   "cell_type": "code",
   "execution_count": 10,
   "metadata": {},
   "outputs": [],
   "source": [
    "if __name__ == '__main__':\n",
    "    seed = 777\n",
    "    torch.manual_seed(seed)\n",
    "    np.random.seed(seed)\n",
    "    random.seed(seed)\n",
    "    kf = StratifiedKFold(5, shuffle=True, random_state=seed)\n",
    "    "
   ]
  },
  {
   "cell_type": "code",
   "execution_count": 11,
   "metadata": {},
   "outputs": [],
   "source": [
    "sequence=train['sequence'].map(lambda seq: [rna_dict[x] for x in seq]).tolist()\n",
    "struct = train['structure'].map(lambda seq: [struct_dict[x] for x in seq]).tolist()\n",
    "loop   = train['predicted_loop_type'].map(lambda seq: [loop_dict[x] for x in seq]).tolist()"
   ]
  },
  {
   "cell_type": "code",
   "execution_count": 12,
   "metadata": {},
   "outputs": [],
   "source": [
    "def get_train_item(index):\n",
    "    data = []\n",
    "    data.append(np.array(np_onehot(sequence[index],4)))\n",
    "    data.append(np_onehot(loop[index],7))\n",
    "    data.append(create_adj(index))\n",
    "    return (data)"
   ]
  },
  {
   "cell_type": "code",
   "execution_count": 67,
   "metadata": {},
   "outputs": [],
   "source": [
    "def get_folded_seq(index):\n",
    "    final = []\n",
    "    seq = sequence[index]\n",
    "    if(len(seq)==107):\n",
    "        seq = seq[0:68]\n",
    "        final.append(seq[0:34])\n",
    "        final.append(list(reversed(seq[34:68])))\n",
    "    else:\n",
    "        seq = seq[0:92]\n",
    "        final.append(seq[0:46])\n",
    "        final.append(list(reversed(seq[46:92])))\n",
    "    return final\n",
    "\n",
    "def get_folded_loop(index):\n",
    "    final = []\n",
    "    seq = loop[index]\n",
    "    if(len(seq)==107):\n",
    "        seq = seq[0:68]\n",
    "        final.append(seq[0:34])\n",
    "        final.append(list(reversed(seq[34:68])))\n",
    "    else:\n",
    "        seq = seq[0:92]\n",
    "        final.append(seq[0:46])\n",
    "        final.append(list(reversed(seq[46:92])))\n",
    "    return final\n",
    "\n",
    "def build_channel(index):    \n",
    "    final = []\n",
    "    for x,y in zip(get_folded_seq(index),get_folded_loop(index)):\n",
    "        tmp = []\n",
    "        for a,b in zip(x,y):\n",
    "            tmp.append([a,b])\n",
    "        final.append(tmp)\n",
    "    return final\n",
    "\n",
    "def get_one_hot(index,base,adj):\n",
    "#     start = perf_counter()\n",
    "#     end = perf_counter()\n",
    "#     print(end-start)\n",
    "#     print(\"num of paired: \",sum(adj[base]))\n",
    "    seq = np.zeros((4,5))\n",
    "    loops = np.zeros((4,8))\n",
    "    j = 0\n",
    "#     print(train.iloc[index][\"pair_prob\"][base])\n",
    "    x = adj[base]\n",
    "    for i in range(len(x)):\n",
    "        if(j==3):\n",
    "            break\n",
    "        if(x[i]==1):\n",
    "#             print(np_onehot(sequence[index][base]+1,5))\n",
    "            seq[j]=(np_onehot(sequence[index][base]+1,5))\n",
    "            loops[j]=(np_onehot(loop[index][base]+1,8))\n",
    "            j+=1\n",
    "#     print(j)\n",
    "    return (seq,loops)\n",
    "            "
   ]
  },
  {
   "cell_type": "code",
   "execution_count": 14,
   "metadata": {},
   "outputs": [],
   "source": [
    "epochs = 15\n",
    "net = CNN2D()\n",
    "optimizer = torch.optim.Adam(net.parameters(), lr=0.0005)\n",
    "batch_size = 50"
   ]
  },
  {
   "cell_type": "code",
   "execution_count": 15,
   "metadata": {},
   "outputs": [
    {
     "name": "stderr",
     "output_type": "stream",
     "text": [
      "  0%|                                                                                         | 0/2097 [00:00<?, ?it/s]c:\\users\\padideh\\appdata\\local\\programs\\python\\python37\\lib\\site-packages\\torch\\nn\\functional.py:1614: UserWarning: nn.functional.tanh is deprecated. Use torch.tanh instead.\n",
      "  warnings.warn(\"nn.functional.tanh is deprecated. Use torch.tanh instead.\")\n",
      "100%|█████████████████████████████████████████████████████████████████████████████| 2097/2097 [00:04<00:00, 434.99it/s]\n",
      "100%|█████████████████████████████████████████████████████████████████████████████| 2097/2097 [00:04<00:00, 485.45it/s]\n",
      "100%|█████████████████████████████████████████████████████████████████████████████| 2097/2097 [00:03<00:00, 646.87it/s]\n",
      "100%|█████████████████████████████████████████████████████████████████████████████| 2097/2097 [00:02<00:00, 727.80it/s]\n",
      "100%|█████████████████████████████████████████████████████████████████████████████| 2097/2097 [00:02<00:00, 707.18it/s]\n",
      "100%|█████████████████████████████████████████████████████████████████████████████| 2097/2097 [00:03<00:00, 686.09it/s]\n",
      "100%|█████████████████████████████████████████████████████████████████████████████| 2097/2097 [00:03<00:00, 665.11it/s]\n",
      "100%|█████████████████████████████████████████████████████████████████████████████| 2097/2097 [00:03<00:00, 601.45it/s]\n",
      "100%|█████████████████████████████████████████████████████████████████████████████| 2097/2097 [00:04<00:00, 502.17it/s]\n",
      "100%|█████████████████████████████████████████████████████████████████████████████| 2097/2097 [00:03<00:00, 661.75it/s]\n",
      "100%|█████████████████████████████████████████████████████████████████████████████| 2097/2097 [00:03<00:00, 598.21it/s]\n",
      "100%|█████████████████████████████████████████████████████████████████████████████| 2097/2097 [00:03<00:00, 582.80it/s]\n",
      "100%|█████████████████████████████████████████████████████████████████████████████| 2097/2097 [00:03<00:00, 593.46it/s]\n",
      "100%|█████████████████████████████████████████████████████████████████████████████| 2097/2097 [00:03<00:00, 650.95it/s]\n",
      "100%|█████████████████████████████████████████████████████████████████████████████| 2097/2097 [00:03<00:00, 572.29it/s]\n"
     ]
    }
   ],
   "source": [
    "losses = []\n",
    "for epoch in range(epochs):\n",
    "    batch = []\n",
    "    cnn_input = []\n",
    "    results = []\n",
    "    ys = []\n",
    "    net.train()\n",
    "    for x in tqdm(range(len(train))):\n",
    "        optimizer.zero_grad()\n",
    "        input_t=build_channel(x)\n",
    "        batch.append(input_t)\n",
    "        ys.append(train.iloc[x][\"reactivity\"])\n",
    "        if(len(batch)%batch_size==batch_size-1):\n",
    "            result = net(torch.Tensor(batch).to(device))\n",
    "            loss = criterion(result, torch.Tensor(ys).to(device))\n",
    "            loss.backward()\n",
    "            optimizer.step()\n",
    "            losses.append(loss.item())\n",
    "            batch = []\n",
    "            ys = []"
   ]
  },
  {
   "cell_type": "code",
   "execution_count": 16,
   "metadata": {},
   "outputs": [
    {
     "data": {
      "text/plain": [
       "0.35207722920273976"
      ]
     },
     "execution_count": 16,
     "metadata": {},
     "output_type": "execute_result"
    }
   ],
   "source": [
    "sum(losses)/len(losses)"
   ]
  },
  {
   "cell_type": "code",
   "execution_count": 17,
   "metadata": {},
   "outputs": [
    {
     "data": {
      "text/plain": [
       "[<matplotlib.lines.Line2D at 0x1692790c0f0>]"
      ]
     },
     "execution_count": 17,
     "metadata": {},
     "output_type": "execute_result"
    },
    {
     "data": {
      "image/png": "[encoded data removed]",
      "text/plain": [
       "<Figure size 432x288 with 1 Axes>"
      ]
     },
     "metadata": {
      "needs_background": "light"
     },
     "output_type": "display_data"
    }
   ],
   "source": [
    "plt.plot(losses)"
   ]
  },
  {
   "cell_type": "code",
   "execution_count": 96,
   "metadata": {},
   "outputs": [],
   "source": [
    "class DNN(nn.Module):\n",
    "    def __init__(self,layer_size):\n",
    "        super(DNN, self).__init__()\n",
    "        self.fc1 = nn.Linear(52, layer_size)\n",
    "        self.fc2 = nn.Linear(layer_size, layer_size)\n",
    "        self.fc3 = nn.Linear(layer_size, layer_size)\n",
    "        self.fc4 = nn.Linear(layer_size, layer_size)\n",
    "        self.fc5 = nn.Linear(layer_size, layer_size)\n",
    "        self.fc6 = nn.Linear(layer_size, layer_size)\n",
    "        self.fc7 = nn.Linear(layer_size,1)\n",
    "        \n",
    "    def forward(self, x):\n",
    "        x = self.fc1(x)\n",
    "        x = torch.tanh(x)\n",
    "#         x = F.dropout(x,self.drop1)\n",
    "#         x = self.fc2(x)\n",
    "#         x = torch.tanh(x)\n",
    "#         x = F.dropout(x,self.drop2)\n",
    "#         x = self.fc3(x)\n",
    "#         x = torch.tanh(x)\n",
    "#         x = F.dropout(x,self.drop3)\n",
    "#         x = self.fc4(x)\n",
    "#         x = torch.tanh(x)\n",
    "#         x = F.dropout(x,self.drop3)\n",
    "#         x = self.fc5(x)\n",
    "#         x = torch.tanh(x)\n",
    "#         x = F.dropout(x,self.drop3)\n",
    "        x = self.fc7(x)\n",
    "        output =  x = torch.tanh(x)\n",
    "        \n",
    "        return output"
   ]
  },
  {
   "cell_type": "code",
   "execution_count": 68,
   "metadata": {},
   "outputs": [],
   "source": []
  },
  {
   "cell_type": "code",
   "execution_count": 88,
   "metadata": {},
   "outputs": [],
   "source": [
    "def train_dnn(layer_size,alpha,batch_size):    \n",
    "    dnn = DNN(layer_size)\n",
    "    epochs = 1\n",
    "    optimizer = torch.optim.Adam(net.parameters(), lr=alpha)\n",
    "    losses = []\n",
    "    input_t =[]\n",
    "    for epoch in range(epochs):\n",
    "        batch = []\n",
    "        cnn_input = []\n",
    "        results = []\n",
    "        ys = []\n",
    "        dnn.train()\n",
    "        react = train[\"reactivity\"].values\n",
    "        for x in tqdm(range(len(train))):\n",
    "            adj = create_adj(x)\n",
    "            for y in range(train.iloc[x][\"seq_scored\"]):\n",
    "    #             start = perf_counter()\n",
    "                one_hot = get_one_hot(x,y,adj)\n",
    "\n",
    "                for s in (one_hot[0]):\n",
    "    #                 print(s)\n",
    "                    input_t.extend(s)\n",
    "                for l in (one_hot[1]):\n",
    "    #                 print(l)\n",
    "                    input_t.extend(l)\n",
    "    #             end = perf_counter()\n",
    "    #             print(end-start)\n",
    "    #             print(input_t)\n",
    "    #             break\n",
    "    #             start=perf_counter()\n",
    "                optimizer.zero_grad()\n",
    "                batch.append(input_t)\n",
    "                input_t = []\n",
    "                ground = [react[x][y]]\n",
    "                ys.append(ground)\n",
    "    #             end = perf_counter()\n",
    "    #             print(end-start)\n",
    "    #             ys = np.asarray(ys).reshape((1,49))\n",
    "                if(len(batch)%batch_size==batch_size-1):\n",
    "                    result = dnn(torch.Tensor(batch).to(device))\n",
    "                    loss = criterion(result, torch.Tensor(ys).to(device))\n",
    "                    loss.backward()\n",
    "                    optimizer.step()\n",
    "                    losses.append(loss.item())\n",
    "                    batch = []\n",
    "                    ys = []\n",
    "    return (sum(losses)/len(losses))"
   ]
  },
  {
   "cell_type": "code",
   "execution_count": 97,
   "metadata": {},
   "outputs": [],
   "source": [
    "def objective(trial):\n",
    "    layer_size = trial.suggest_int('layer_size', 30, 200)\n",
    "    alpha = trial.suggest_loguniform('alpha', 1e-6, 1e-3)\n",
    "    batch_size = trial.suggest_int('batch_size', 500, 2000)\n",
    "    results = train_dnn(layer_size,alpha,batch_size)\n",
    "    return results"
   ]
  },
  {
   "cell_type": "code",
   "execution_count": 98,
   "metadata": {},
   "outputs": [
    {
     "name": "stderr",
     "output_type": "stream",
     "text": [
      "[I 2020-09-30 20:21:38,382] A new study created in memory with name: no-name-7f75eeb4-df2c-4db0-9ea0-e922377792e8\n",
      "100%|██████████████████████████████████████████████████████████████████████████████| 2097/2097 [01:56<00:00, 17.94it/s]\n",
      "[I 2020-09-30 20:23:35,320] Trial 0 finished with value: 0.5815710672792399 and parameters: {'layer_size': 182, 'alpha': 1.7079465913101342e-06, 'batch_size': 1335}. Best is trial 0 with value: 0.5815710672792399.\n",
      "100%|██████████████████████████████████████████████████████████████████████████████| 2097/2097 [02:01<00:00, 17.32it/s]\n",
      "[I 2020-09-30 20:25:36,443] Trial 1 finished with value: 0.5489849689030888 and parameters: {'layer_size': 62, 'alpha': 1.449342395286509e-06, 'batch_size': 720}. Best is trial 1 with value: 0.5489849689030888.\n",
      "100%|██████████████████████████████████████████████████████████████████████████████| 2097/2097 [02:00<00:00, 17.38it/s]\n",
      "[I 2020-09-30 20:27:37,106] Trial 2 finished with value: 0.5630329150108644 and parameters: {'layer_size': 91, 'alpha': 3.323504974986728e-06, 'batch_size': 878}. Best is trial 1 with value: 0.5489849689030888.\n",
      "100%|██████████████████████████████████████████████████████████████████████████████| 2097/2097 [01:55<00:00, 18.15it/s]\n",
      "[I 2020-09-30 20:29:32,690] Trial 3 finished with value: 0.5718791135633835 and parameters: {'layer_size': 189, 'alpha': 1.1129870991601761e-06, 'batch_size': 1434}. Best is trial 1 with value: 0.5489849689030888.\n",
      "100%|██████████████████████████████████████████████████████████████████████████████| 2097/2097 [01:53<00:00, 18.42it/s]\n",
      "[I 2020-09-30 20:31:26,536] Trial 4 finished with value: 0.6565162945124838 and parameters: {'layer_size': 121, 'alpha': 2.283058278605889e-06, 'batch_size': 1977}. Best is trial 1 with value: 0.5489849689030888.\n",
      "100%|██████████████████████████████████████████████████████████████████████████████| 2097/2097 [01:52<00:00, 18.58it/s]\n",
      "[I 2020-09-30 20:33:19,475] Trial 5 finished with value: 0.6713607085914146 and parameters: {'layer_size': 158, 'alpha': 1.326906302987762e-06, 'batch_size': 869}. Best is trial 1 with value: 0.5489849689030888.\n",
      "100%|██████████████████████████████████████████████████████████████████████████████| 2097/2097 [01:53<00:00, 18.45it/s]\n",
      "[I 2020-09-30 20:35:13,176] Trial 6 finished with value: 0.6133081929551231 and parameters: {'layer_size': 60, 'alpha': 0.000122638135706359, 'batch_size': 988}. Best is trial 1 with value: 0.5489849689030888.\n",
      "100%|██████████████████████████████████████████████████████████████████████████████| 2097/2097 [01:57<00:00, 17.85it/s]\n",
      "[I 2020-09-30 20:37:10,686] Trial 7 finished with value: 0.5862708838506677 and parameters: {'layer_size': 150, 'alpha': 0.00011003908166901596, 'batch_size': 1630}. Best is trial 1 with value: 0.5489849689030888.\n",
      "100%|██████████████████████████████████████████████████████████████████████████████| 2097/2097 [01:43<00:00, 20.26it/s]\n",
      "[I 2020-09-30 20:38:54,198] Trial 8 finished with value: 0.5137304462665735 and parameters: {'layer_size': 40, 'alpha': 0.000624834239707226, 'batch_size': 1642}. Best is trial 8 with value: 0.5137304462665735.\n",
      "100%|██████████████████████████████████████████████████████████████████████████████| 2097/2097 [01:47<00:00, 19.49it/s]\n",
      "[I 2020-09-30 20:40:41,839] Trial 9 finished with value: 0.5566700801108647 and parameters: {'layer_size': 173, 'alpha': 1.393033834320509e-05, 'batch_size': 1373}. Best is trial 8 with value: 0.5137304462665735.\n"
     ]
    }
   ],
   "source": [
    "study = optuna.create_study()\n",
    "study.optimize(objective, n_trials=10)"
   ]
  },
  {
   "cell_type": "code",
   "execution_count": 72,
   "metadata": {},
   "outputs": [
    {
     "name": "stdout",
     "output_type": "stream",
     "text": [
      "0.5827286225931034\n"
     ]
    },
    {
     "data": {
      "text/plain": [
       "[<matplotlib.lines.Line2D at 0x1692760fef0>]"
      ]
     },
     "execution_count": 72,
     "metadata": {},
     "output_type": "execute_result"
    },
    {
     "data": {
      "image/png": "[encoded data removed]",
      "text/plain": [
       "<Figure size 432x288 with 1 Axes>"
      ]
     },
     "metadata": {
      "needs_background": "light"
     },
     "output_type": "display_data"
    }
   ],
   "source": [
    "print(sum(losses)/len(losses))\n",
    "plt.plot(losses)"
   ]
  },
  {
   "cell_type": "code",
   "execution_count": null,
   "metadata": {},
   "outputs": [],
   "source": [
    "class GCN(nn.Module):\n",
    "    def __init__(self):\n",
    "        super(GCN, self).__init__()\n",
    "        self.gcn = ChebConv(2, node_hidden_channels, T)"
   ]
  }
 ],
 "metadata": {
  "kernelspec": {
   "display_name": "Python 3",
   "language": "python",
   "name": "python3"
  },
  "language_info": {
   "codemirror_mode": {
    "name": "ipython",
    "version": 3
   },
   "file_extension": ".py",
   "mimetype": "text/x-python",
   "name": "python",
   "nbconvert_exporter": "python",
   "pygments_lexer": "ipython3",
   "version": "3.7.3"
  }
 },
 "nbformat": 4,
 "nbformat_minor": 2
}
